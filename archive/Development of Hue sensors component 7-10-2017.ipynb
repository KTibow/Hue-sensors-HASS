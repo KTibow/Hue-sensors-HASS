{
 "cells": [
  {
   "cell_type": "markdown",
   "metadata": {},
   "source": [
    "This notebook contains the developent of a custom component for home-assistant for monitoring Hue motion sensors and 4 button remotes. The component is a RESTful sensor. It is split into 2 main sections: functions to parse the json data returned by the API call, and classes to represent the sensor data in HASS."
   ]
  },
  {
   "cell_type": "code",
   "execution_count": 15,
   "metadata": {},
   "outputs": [],
   "source": [
    "import requests\n",
    "import json\n",
    "import pprint\n",
    "from datetime import datetime, timedelta\n",
    "\n",
    "def print_json(json_data):\n",
    "    pprint.PrettyPrinter().pprint(json_data)\n",
    "\n",
    "# for loading URL    \n",
    "def load_url(filename):\n",
    "    try:\n",
    "        with open(filename, 'r') as fp:\n",
    "            url = json.load(fp)\n",
    "    except Exception as e:\n",
    "        print('Failed to load url')\n",
    "        url = None\n",
    "    return url['url']"
   ]
  },
  {
   "cell_type": "code",
   "execution_count": 16,
   "metadata": {},
   "outputs": [],
   "source": [
    "filename = '/Users/robin/Desktop/Hue_url.json'"
   ]
  },
  {
   "cell_type": "code",
   "execution_count": 17,
   "metadata": {},
   "outputs": [],
   "source": [
    "URL = load_url(filename)    # base URL of the remote, ending /sensors\n",
    "sensors = requests.get(URL).json()"
   ]
  },
  {
   "cell_type": "code",
   "execution_count": 22,
   "metadata": {},
   "outputs": [
    {
     "data": {
      "text/plain": [
       "{'1': {'state': {'daylight': True, 'lastupdated': '2020-02-06T08:01:00'},\n",
       "  'config': {'on': True,\n",
       "   'configured': True,\n",
       "   'sunriseoffset': 30,\n",
       "   'sunsetoffset': -30},\n",
       "  'name': 'Daylight',\n",
       "  'type': 'Daylight',\n",
       "  'modelid': 'PHDL00',\n",
       "  'manufacturername': 'Philips',\n",
       "  'swversion': '1.0'},\n",
       " '7': {'state': {'status': 0, 'lastupdated': '2019-04-21T05:23:00'},\n",
       "  'config': {'on': True, 'reachable': True},\n",
       "  'name': 'MotionSensor 5.Companion',\n",
       "  'type': 'CLIPGenericStatus',\n",
       "  'modelid': 'PHA_STATE',\n",
       "  'manufacturername': 'Philips',\n",
       "  'swversion': '1.0',\n",
       "  'uniqueid': 'MotionSensor 5.Companion',\n",
       "  'recycle': True},\n",
       " '12': {'state': {'presence': False, 'lastupdated': '2020-02-05T20:46:58'},\n",
       "  'config': {'on': True, 'reachable': True},\n",
       "  'name': 'Robins iPhone',\n",
       "  'type': 'Geofence',\n",
       "  'modelid': 'HA_GEOFENCE',\n",
       "  'manufacturername': 'Philips',\n",
       "  'swversion': 'A_1',\n",
       "  'uniqueid': 'L_02_IYwHM',\n",
       "  'recycle': False},\n",
       " '13': {'state': {'presence': False, 'lastupdated': '2020-02-05T20:46:58'},\n",
       "  'config': {'on': True, 'reachable': True},\n",
       "  'name': 'HomeAway',\n",
       "  'type': 'CLIPPresence',\n",
       "  'modelid': 'HOMEAWAY',\n",
       "  'manufacturername': 'Philips',\n",
       "  'swversion': 'A_1',\n",
       "  'uniqueid': 'L_01_9rQ8A',\n",
       "  'recycle': False},\n",
       " '26': {'state': {'presence': False, 'lastupdated': '2020-02-06T07:00:15'},\n",
       "  'swupdate': {'state': 'noupdates', 'lastinstall': '2019-05-06T13:15:12'},\n",
       "  'config': {'on': True,\n",
       "   'battery': 100,\n",
       "   'reachable': True,\n",
       "   'alert': 'none',\n",
       "   'sensitivity': 3,\n",
       "   'sensitivitymax': 4,\n",
       "   'ledindication': False,\n",
       "   'usertest': False,\n",
       "   'pending': []},\n",
       "  'name': 'Hue front porch sensor',\n",
       "  'type': 'ZLLPresence',\n",
       "  'modelid': 'SML002',\n",
       "  'manufacturername': 'Philips',\n",
       "  'productname': 'Hue outdoor motion sensor',\n",
       "  'swversion': '6.1.1.27575',\n",
       "  'uniqueid': '00:17:88:01:06:44:4b:f6-02-0406',\n",
       "  'capabilities': {'certified': True, 'primary': True}},\n",
       " '27': {'state': {'lightlevel': 22760,\n",
       "   'dark': False,\n",
       "   'daylight': False,\n",
       "   'lastupdated': '2020-02-06T08:00:09'},\n",
       "  'swupdate': {'state': 'noupdates', 'lastinstall': '2019-05-06T13:15:12'},\n",
       "  'config': {'on': True,\n",
       "   'battery': 100,\n",
       "   'reachable': True,\n",
       "   'alert': 'none',\n",
       "   'tholddark': 16758,\n",
       "   'tholdoffset': 7000,\n",
       "   'ledindication': False,\n",
       "   'usertest': False,\n",
       "   'pending': []},\n",
       "  'name': 'Hue outdoor ambient light sensor',\n",
       "  'type': 'ZLLLightLevel',\n",
       "  'modelid': 'SML002',\n",
       "  'manufacturername': 'Philips',\n",
       "  'productname': 'Hue outdoor ambient light sensor',\n",
       "  'swversion': '6.1.1.27575',\n",
       "  'uniqueid': '00:17:88:01:06:44:4b:f6-02-0400',\n",
       "  'capabilities': {'certified': True, 'primary': False}},\n",
       " '28': {'state': {'temperature': 442, 'lastupdated': '2020-02-06T08:00:44'},\n",
       "  'swupdate': {'state': 'noupdates', 'lastinstall': '2019-05-06T13:15:12'},\n",
       "  'config': {'on': True,\n",
       "   'battery': 100,\n",
       "   'reachable': True,\n",
       "   'alert': 'none',\n",
       "   'ledindication': False,\n",
       "   'usertest': False,\n",
       "   'pending': []},\n",
       "  'name': 'Hue outdoor temperature sensor 1',\n",
       "  'type': 'ZLLTemperature',\n",
       "  'modelid': 'SML002',\n",
       "  'manufacturername': 'Philips',\n",
       "  'productname': 'Hue outdoor temperature sensor',\n",
       "  'swversion': '6.1.1.27575',\n",
       "  'uniqueid': '00:17:88:01:06:44:4b:f6-02-0402',\n",
       "  'capabilities': {'certified': True, 'primary': False}},\n",
       " '32': {'state': {'buttonevent': 17, 'lastupdated': '2019-06-22T14:43:50'},\n",
       "  'swupdate': {'state': 'notupdatable', 'lastinstall': None},\n",
       "  'config': {'on': True},\n",
       "  'name': 'Hue Tap',\n",
       "  'type': 'ZGPSwitch',\n",
       "  'modelid': 'ZGPSWITCH',\n",
       "  'manufacturername': 'Philips',\n",
       "  'productname': 'Hue tap switch',\n",
       "  'diversityid': 'd8cde5d5-0eef-4b95-b0f0-71ddd2952af4',\n",
       "  'uniqueid': '00:00:00:00:00:44:23:08-f2',\n",
       "  'capabilities': {'certified': True,\n",
       "   'primary': True,\n",
       "   'inputs': [{'repeatintervals': [],\n",
       "     'events': [{'buttonevent': 34, 'eventtype': 'initial_press'}]},\n",
       "    {'repeatintervals': [],\n",
       "     'events': [{'buttonevent': 16, 'eventtype': 'initial_press'}]},\n",
       "    {'repeatintervals': [],\n",
       "     'events': [{'buttonevent': 17, 'eventtype': 'initial_press'}]},\n",
       "    {'repeatintervals': [],\n",
       "     'events': [{'buttonevent': 18, 'eventtype': 'initial_press'}]}]}},\n",
       " '33': {'state': {'presence': False, 'lastupdated': '2020-02-06T07:28:08'},\n",
       "  'swupdate': {'state': 'noupdates', 'lastinstall': '2019-05-06T13:14:45'},\n",
       "  'config': {'on': True,\n",
       "   'battery': 58,\n",
       "   'reachable': True,\n",
       "   'alert': 'lselect',\n",
       "   'sensitivity': 2,\n",
       "   'sensitivitymax': 2,\n",
       "   'ledindication': False,\n",
       "   'usertest': False,\n",
       "   'pending': []},\n",
       "  'name': 'Living room sensor',\n",
       "  'type': 'ZLLPresence',\n",
       "  'modelid': 'SML001',\n",
       "  'manufacturername': 'Philips',\n",
       "  'productname': 'Hue motion sensor',\n",
       "  'swversion': '6.1.1.27575',\n",
       "  'uniqueid': '00:17:88:01:02:00:af:28-02-0406',\n",
       "  'capabilities': {'certified': True, 'primary': True}},\n",
       " '34': {'state': {'lightlevel': 8205,\n",
       "   'dark': True,\n",
       "   'daylight': False,\n",
       "   'lastupdated': '2020-02-06T07:58:05'},\n",
       "  'swupdate': {'state': 'noupdates', 'lastinstall': '2019-05-06T13:14:45'},\n",
       "  'config': {'on': True,\n",
       "   'battery': 58,\n",
       "   'reachable': True,\n",
       "   'alert': 'none',\n",
       "   'tholddark': 16000,\n",
       "   'tholdoffset': 7000,\n",
       "   'ledindication': False,\n",
       "   'usertest': False,\n",
       "   'pending': []},\n",
       "  'name': 'Hue ambient light sensor 1',\n",
       "  'type': 'ZLLLightLevel',\n",
       "  'modelid': 'SML001',\n",
       "  'manufacturername': 'Philips',\n",
       "  'productname': 'Hue ambient light sensor',\n",
       "  'swversion': '6.1.1.27575',\n",
       "  'uniqueid': '00:17:88:01:02:00:af:28-02-0400',\n",
       "  'capabilities': {'certified': True, 'primary': False}},\n",
       " '35': {'state': {'temperature': 1716, 'lastupdated': '2020-02-06T08:01:22'},\n",
       "  'swupdate': {'state': 'noupdates', 'lastinstall': '2019-05-06T13:14:45'},\n",
       "  'config': {'on': True,\n",
       "   'battery': 58,\n",
       "   'reachable': True,\n",
       "   'alert': 'none',\n",
       "   'ledindication': False,\n",
       "   'usertest': False,\n",
       "   'pending': []},\n",
       "  'name': 'Hue temperature sensor 1',\n",
       "  'type': 'ZLLTemperature',\n",
       "  'modelid': 'SML001',\n",
       "  'manufacturername': 'Philips',\n",
       "  'productname': 'Hue temperature sensor',\n",
       "  'swversion': '6.1.1.27575',\n",
       "  'uniqueid': '00:17:88:01:02:00:af:28-02-0402',\n",
       "  'capabilities': {'certified': True, 'primary': False}},\n",
       " '36': {'state': {'status': 0, 'lastupdated': '2020-02-06T07:28:08'},\n",
       "  'config': {'on': True, 'reachable': True},\n",
       "  'name': 'MotionSensor 33.Companion',\n",
       "  'type': 'CLIPGenericStatus',\n",
       "  'modelid': 'PHA_STATE',\n",
       "  'manufacturername': 'Philips',\n",
       "  'swversion': '1.0',\n",
       "  'uniqueid': 'MotionSensor 33.Companion',\n",
       "  'recycle': True},\n",
       " '37': {'state': {'presence': False, 'lastupdated': '2020-02-06T08:02:42'},\n",
       "  'swupdate': {'state': 'noupdates', 'lastinstall': '2019-05-06T13:15:15'},\n",
       "  'config': {'on': True,\n",
       "   'battery': 47,\n",
       "   'reachable': True,\n",
       "   'alert': 'lselect',\n",
       "   'sensitivity': 2,\n",
       "   'sensitivitymax': 2,\n",
       "   'ledindication': False,\n",
       "   'usertest': False,\n",
       "   'pending': []},\n",
       "  'name': 'Office sensor',\n",
       "  'type': 'ZLLPresence',\n",
       "  'modelid': 'SML001',\n",
       "  'manufacturername': 'Philips',\n",
       "  'productname': 'Hue motion sensor',\n",
       "  'swversion': '6.1.1.27575',\n",
       "  'uniqueid': '00:17:88:01:02:00:b5:ce-02-0406',\n",
       "  'capabilities': {'certified': True, 'primary': True}},\n",
       " '38': {'state': {'lightlevel': 20833,\n",
       "   'dark': False,\n",
       "   'daylight': False,\n",
       "   'lastupdated': '2020-02-06T07:58:03'},\n",
       "  'swupdate': {'state': 'noupdates', 'lastinstall': '2019-05-06T13:15:15'},\n",
       "  'config': {'on': True,\n",
       "   'battery': 47,\n",
       "   'reachable': True,\n",
       "   'alert': 'none',\n",
       "   'tholddark': 16000,\n",
       "   'tholdoffset': 7000,\n",
       "   'ledindication': False,\n",
       "   'usertest': False,\n",
       "   'pending': []},\n",
       "  'name': 'Hue ambient light sensor 2',\n",
       "  'type': 'ZLLLightLevel',\n",
       "  'modelid': 'SML001',\n",
       "  'manufacturername': 'Philips',\n",
       "  'productname': 'Hue ambient light sensor',\n",
       "  'swversion': '6.1.1.27575',\n",
       "  'uniqueid': '00:17:88:01:02:00:b5:ce-02-0400',\n",
       "  'capabilities': {'certified': True, 'primary': False}},\n",
       " '39': {'state': {'temperature': 1861, 'lastupdated': '2020-02-06T08:00:47'},\n",
       "  'swupdate': {'state': 'noupdates', 'lastinstall': '2019-05-06T13:15:15'},\n",
       "  'config': {'on': True,\n",
       "   'battery': 47,\n",
       "   'reachable': True,\n",
       "   'alert': 'none',\n",
       "   'ledindication': False,\n",
       "   'usertest': False,\n",
       "   'pending': []},\n",
       "  'name': 'Hue temperature sensor 2',\n",
       "  'type': 'ZLLTemperature',\n",
       "  'modelid': 'SML001',\n",
       "  'manufacturername': 'Philips',\n",
       "  'productname': 'Hue temperature sensor',\n",
       "  'swversion': '6.1.1.27575',\n",
       "  'uniqueid': '00:17:88:01:02:00:b5:ce-02-0402',\n",
       "  'capabilities': {'certified': True, 'primary': False}},\n",
       " '44': {'state': {'status': 0, 'lastupdated': '2019-05-16T19:17:00'},\n",
       "  'config': {'on': True, 'reachable': True},\n",
       "  'name': 'Front_door_evening_on',\n",
       "  'type': 'CLIPGenericStatus',\n",
       "  'modelid': 'PHA_STATE',\n",
       "  'manufacturername': 'Philips',\n",
       "  'swversion': '1.0',\n",
       "  'uniqueid': 'M3ChQg1QeYOq',\n",
       "  'recycle': True},\n",
       " '45': {'state': {'flag': False, 'lastupdated': '2019-05-15T21:00:00'},\n",
       "  'config': {'on': True, 'reachable': True},\n",
       "  'name': 'Front_door_off',\n",
       "  'type': 'CLIPGenericFlag',\n",
       "  'modelid': 'PHA_CTRL_START',\n",
       "  'manufacturername': 'Philips',\n",
       "  'swversion': '1.0',\n",
       "  'uniqueid': '3JNdZpYZU950',\n",
       "  'recycle': True},\n",
       " '66': {'state': {'presence': False, 'lastupdated': '2020-02-06T07:28:11'},\n",
       "  'swupdate': {'state': 'noupdates', 'lastinstall': '2019-05-28T13:07:27'},\n",
       "  'config': {'on': True,\n",
       "   'battery': 100,\n",
       "   'reachable': True,\n",
       "   'alert': 'none',\n",
       "   'sensitivity': 2,\n",
       "   'sensitivitymax': 2,\n",
       "   'ledindication': False,\n",
       "   'usertest': False,\n",
       "   'pending': []},\n",
       "  'name': 'Downstairs hallway sensor',\n",
       "  'type': 'ZLLPresence',\n",
       "  'modelid': 'SML001',\n",
       "  'manufacturername': 'Philips',\n",
       "  'productname': 'Hue motion sensor',\n",
       "  'swversion': '6.1.1.27575',\n",
       "  'uniqueid': '00:17:88:01:02:01:aa:9c-02-0406',\n",
       "  'capabilities': {'certified': True, 'primary': True}},\n",
       " '67': {'state': {'lightlevel': 16034,\n",
       "   'dark': False,\n",
       "   'daylight': False,\n",
       "   'lastupdated': '2020-02-06T07:58:08'},\n",
       "  'swupdate': {'state': 'noupdates', 'lastinstall': '2019-05-28T13:07:27'},\n",
       "  'config': {'on': True,\n",
       "   'battery': 100,\n",
       "   'reachable': True,\n",
       "   'alert': 'none',\n",
       "   'tholddark': 16000,\n",
       "   'tholdoffset': 7000,\n",
       "   'ledindication': False,\n",
       "   'usertest': False,\n",
       "   'pending': []},\n",
       "  'name': 'Hue ambient light sensor 3',\n",
       "  'type': 'ZLLLightLevel',\n",
       "  'modelid': 'SML001',\n",
       "  'manufacturername': 'Philips',\n",
       "  'productname': 'Hue ambient light sensor',\n",
       "  'swversion': '6.1.1.27575',\n",
       "  'uniqueid': '00:17:88:01:02:01:aa:9c-02-0400',\n",
       "  'capabilities': {'certified': True, 'primary': False}},\n",
       " '68': {'state': {'temperature': 1121, 'lastupdated': '2020-02-06T07:58:42'},\n",
       "  'swupdate': {'state': 'noupdates', 'lastinstall': '2019-05-28T13:07:27'},\n",
       "  'config': {'on': True,\n",
       "   'battery': 100,\n",
       "   'reachable': True,\n",
       "   'alert': 'none',\n",
       "   'ledindication': False,\n",
       "   'usertest': False,\n",
       "   'pending': []},\n",
       "  'name': 'Hue temperature sensor 3',\n",
       "  'type': 'ZLLTemperature',\n",
       "  'modelid': 'SML001',\n",
       "  'manufacturername': 'Philips',\n",
       "  'productname': 'Hue temperature sensor',\n",
       "  'swversion': '6.1.1.27575',\n",
       "  'uniqueid': '00:17:88:01:02:01:aa:9c-02-0402',\n",
       "  'capabilities': {'certified': True, 'primary': False}},\n",
       " '69': {'state': {'presence': False, 'lastupdated': '2020-02-06T07:09:20'},\n",
       "  'swupdate': {'state': 'noupdates', 'lastinstall': '2019-05-28T13:06:50'},\n",
       "  'config': {'on': True,\n",
       "   'battery': 100,\n",
       "   'reachable': True,\n",
       "   'alert': 'none',\n",
       "   'sensitivity': 2,\n",
       "   'sensitivitymax': 4,\n",
       "   'ledindication': False,\n",
       "   'usertest': False,\n",
       "   'pending': []},\n",
       "  'name': 'Garden sensor',\n",
       "  'type': 'ZLLPresence',\n",
       "  'modelid': 'SML002',\n",
       "  'manufacturername': 'Philips',\n",
       "  'productname': 'Hue outdoor motion sensor',\n",
       "  'swversion': '6.1.1.27575',\n",
       "  'uniqueid': '00:17:88:01:06:44:10:32-02-0406',\n",
       "  'capabilities': {'certified': True, 'primary': True}},\n",
       " '70': {'state': {'lightlevel': 29338,\n",
       "   'dark': False,\n",
       "   'daylight': True,\n",
       "   'lastupdated': '2020-02-06T07:59:15'},\n",
       "  'swupdate': {'state': 'noupdates', 'lastinstall': '2019-05-28T13:06:50'},\n",
       "  'config': {'on': True,\n",
       "   'battery': 100,\n",
       "   'reachable': True,\n",
       "   'alert': 'none',\n",
       "   'tholddark': 16000,\n",
       "   'tholdoffset': 7000,\n",
       "   'ledindication': False,\n",
       "   'usertest': False,\n",
       "   'pending': []},\n",
       "  'name': 'Hue outdoor ambient light sensor',\n",
       "  'type': 'ZLLLightLevel',\n",
       "  'modelid': 'SML002',\n",
       "  'manufacturername': 'Philips',\n",
       "  'productname': 'Hue outdoor ambient light sensor',\n",
       "  'swversion': '6.1.1.27575',\n",
       "  'uniqueid': '00:17:88:01:06:44:10:32-02-0400',\n",
       "  'capabilities': {'certified': True, 'primary': False}},\n",
       " '71': {'state': {'temperature': -187, 'lastupdated': '2020-02-06T07:59:33'},\n",
       "  'swupdate': {'state': 'noupdates', 'lastinstall': '2019-05-28T13:06:50'},\n",
       "  'config': {'on': True,\n",
       "   'battery': 100,\n",
       "   'reachable': True,\n",
       "   'alert': 'none',\n",
       "   'ledindication': False,\n",
       "   'usertest': False,\n",
       "   'pending': []},\n",
       "  'name': 'Hue outdoor temperature sensor 2',\n",
       "  'type': 'ZLLTemperature',\n",
       "  'modelid': 'SML002',\n",
       "  'manufacturername': 'Philips',\n",
       "  'productname': 'Hue outdoor temperature sensor',\n",
       "  'swversion': '6.1.1.27575',\n",
       "  'uniqueid': '00:17:88:01:06:44:10:32-02-0402',\n",
       "  'capabilities': {'certified': True, 'primary': False}},\n",
       " '73': {'state': {'status': 0, 'lastupdated': '2020-02-06T07:14:05'},\n",
       "  'config': {'on': True, 'reachable': True},\n",
       "  'name': 'presenceState',\n",
       "  'type': 'CLIPGenericStatus',\n",
       "  'modelid': 'HUELABSENUM',\n",
       "  'manufacturername': 'Philips',\n",
       "  'swversion': '1.0',\n",
       "  'uniqueid': '5:12:1808-1355-4978-a9b1',\n",
       "  'recycle': True},\n",
       " '74': {'state': {'buttonevent': 4002, 'lastupdated': '2019-12-28T21:58:02'},\n",
       "  'swupdate': {'state': 'noupdates', 'lastinstall': '2019-10-13T13:16:15'},\n",
       "  'config': {'on': True, 'battery': 100, 'reachable': True, 'pending': []},\n",
       "  'name': 'Hue dimmer switch 1',\n",
       "  'type': 'ZLLSwitch',\n",
       "  'modelid': 'RWL021',\n",
       "  'manufacturername': 'Philips',\n",
       "  'productname': 'Hue dimmer switch',\n",
       "  'diversityid': '73bbabea-3420-499a-9856-46bf437e119b',\n",
       "  'swversion': '6.1.1.28573',\n",
       "  'uniqueid': '00:17:88:01:10:3e:3a:dc-02-fc00',\n",
       "  'capabilities': {'certified': True,\n",
       "   'primary': True,\n",
       "   'inputs': [{'repeatintervals': [800],\n",
       "     'events': [{'buttonevent': 1000, 'eventtype': 'initial_press'},\n",
       "      {'buttonevent': 1001, 'eventtype': 'repeat'},\n",
       "      {'buttonevent': 1002, 'eventtype': 'short_release'},\n",
       "      {'buttonevent': 1003, 'eventtype': 'long_release'}]},\n",
       "    {'repeatintervals': [800],\n",
       "     'events': [{'buttonevent': 2000, 'eventtype': 'initial_press'},\n",
       "      {'buttonevent': 2001, 'eventtype': 'repeat'},\n",
       "      {'buttonevent': 2002, 'eventtype': 'short_release'},\n",
       "      {'buttonevent': 2003, 'eventtype': 'long_release'}]},\n",
       "    {'repeatintervals': [800],\n",
       "     'events': [{'buttonevent': 3000, 'eventtype': 'initial_press'},\n",
       "      {'buttonevent': 3001, 'eventtype': 'repeat'},\n",
       "      {'buttonevent': 3002, 'eventtype': 'short_release'},\n",
       "      {'buttonevent': 3003, 'eventtype': 'long_release'}]},\n",
       "    {'repeatintervals': [800],\n",
       "     'events': [{'buttonevent': 4000, 'eventtype': 'initial_press'},\n",
       "      {'buttonevent': 4001, 'eventtype': 'repeat'},\n",
       "      {'buttonevent': 4002, 'eventtype': 'short_release'},\n",
       "      {'buttonevent': 4003, 'eventtype': 'long_release'}]}]}},\n",
       " '75': {'state': {'status': 0, 'lastupdated': '2019-12-28T21:58:12'},\n",
       "  'config': {'on': True, 'reachable': True},\n",
       "  'name': 'Dimmer Switch 74 SceneCycle',\n",
       "  'type': 'CLIPGenericStatus',\n",
       "  'modelid': 'PHWA01',\n",
       "  'manufacturername': 'Philips',\n",
       "  'swversion': '1.0',\n",
       "  'uniqueid': 'WA0001',\n",
       "  'recycle': True},\n",
       " '81': {'state': {'status': 0, 'lastupdated': '2020-02-06T08:02:42'},\n",
       "  'config': {'on': True, 'reachable': True},\n",
       "  'name': 'presenceState',\n",
       "  'type': 'CLIPGenericStatus',\n",
       "  'modelid': 'HUELABSENUM',\n",
       "  'manufacturername': 'Philips',\n",
       "  'swversion': '1.0',\n",
       "  'uniqueid': '5:12:1903-ba64-4c44-9592',\n",
       "  'recycle': True},\n",
       " '82': {'state': {'status': 0, 'lastupdated': '2020-02-06T07:42:26'},\n",
       "  'config': {'on': True, 'reachable': True},\n",
       "  'name': 'textState',\n",
       "  'type': 'CLIPGenericStatus',\n",
       "  'modelid': 'BEH_STATE',\n",
       "  'manufacturername': 'Philips',\n",
       "  'swversion': '1.0',\n",
       "  'uniqueid': '2:13:2d74-1e93-48d0-89f9',\n",
       "  'recycle': True},\n",
       " '85': {'state': {'status': 0, 'lastupdated': '2020-02-06T07:28:11'},\n",
       "  'config': {'on': True, 'reachable': True},\n",
       "  'name': 'presenceState',\n",
       "  'type': 'CLIPGenericStatus',\n",
       "  'modelid': 'HUELABSENUM',\n",
       "  'manufacturername': 'Philips',\n",
       "  'swversion': '1.0',\n",
       "  'uniqueid': '5:12:4c8f-b54a-41e0-a4c4',\n",
       "  'recycle': True},\n",
       " '86': {'state': {'status': 0, 'lastupdated': '2020-02-06T07:27:38'},\n",
       "  'config': {'on': True, 'reachable': True},\n",
       "  'name': 'textState',\n",
       "  'type': 'CLIPGenericStatus',\n",
       "  'modelid': 'BEH_STATE',\n",
       "  'manufacturername': 'Philips',\n",
       "  'swversion': '1.0',\n",
       "  'uniqueid': '2:13:f939-434a-433c-b3ee',\n",
       "  'recycle': True},\n",
       " '87': {'state': {'status': 0, 'lastupdated': '2020-02-06T07:05:00'},\n",
       "  'config': {'on': True, 'reachable': True},\n",
       "  'name': 'presenceState',\n",
       "  'type': 'CLIPGenericStatus',\n",
       "  'modelid': 'HUELABSENUM',\n",
       "  'manufacturername': 'Philips',\n",
       "  'swversion': '1.0',\n",
       "  'uniqueid': '5:12:5deb-a3ff-4745-89cb',\n",
       "  'recycle': True},\n",
       " '88': {'state': {'status': 0, 'lastupdated': '2020-02-06T07:00:01'},\n",
       "  'config': {'on': True, 'reachable': True},\n",
       "  'name': 'textState',\n",
       "  'type': 'CLIPGenericStatus',\n",
       "  'modelid': 'BEH_STATE',\n",
       "  'manufacturername': 'Philips',\n",
       "  'swversion': '1.0',\n",
       "  'uniqueid': '2:13:9d15-d38c-4e84-b0a2',\n",
       "  'recycle': True}}"
      ]
     },
     "execution_count": 22,
     "metadata": {},
     "output_type": "execute_result"
    }
   ],
   "source": [
    "sensors"
   ]
  },
  {
   "cell_type": "code",
   "execution_count": 18,
   "metadata": {},
   "outputs": [
    {
     "data": {
      "text/plain": [
       "dict_keys(['1', '7', '12', '13', '26', '27', '28', '32', '33', '34', '35', '36', '37', '38', '39', '44', '45', '66', '67', '68', '69', '70', '71', '73', '74', '75', '81', '82', '85', '86', '87', '88'])"
      ]
     },
     "execution_count": 18,
     "metadata": {},
     "output_type": "execute_result"
    }
   ],
   "source": [
    "sensors.keys()"
   ]
  },
  {
   "cell_type": "markdown",
   "metadata": {},
   "source": [
    "Print out all my sensors"
   ]
  },
  {
   "cell_type": "code",
   "execution_count": 19,
   "metadata": {},
   "outputs": [
    {
     "name": "stdout",
     "output_type": "stream",
     "text": [
      "7 : PGenericStatus : PHA : MotionSensor 5.Companion : PHA_Motio\n",
      "12 : fence : HA_ : Robins iPhone : HA__L_02_\n",
      "13 : PPresence : HOM : HomeAway : HOM_L_01_\n"
     ]
    }
   ],
   "source": [
    "id_list = []\n",
    "for i in range(1,25):\n",
    "    try:\n",
    "        type = sensors[str(i)]['type'][3:]   # First 3 characters always ZZL\n",
    "        name = sensors[str(i)]['name']\n",
    "        modelid = sensors[str(i)]['modelid'][0:3]\n",
    "        id = modelid + '_' + sensors[str(i)]['uniqueid'].split(':')[-1][0:5]\n",
    "        print(str(i) + ' : ' + type + ' : ' + modelid + ' : ' + name + ' : ' + id)\n",
    "    except:\n",
    "        pass"
   ]
  },
  {
   "cell_type": "markdown",
   "metadata": {},
   "source": [
    "Individual devices indicated by first 5 characters in last entry in id_unique. \n",
    "I have 3 motion sensors and 2 remotes.\n",
    "\n",
    "Will ignore scenes, with modelid PHWA01.\n",
    "\n",
    "Look at the data for a remote."
   ]
  },
  {
   "cell_type": "code",
   "execution_count": 20,
   "metadata": {},
   "outputs": [],
   "source": [
    "remote_index = 12\n",
    "remote_url = URL + '/{}'.format(remote_index)\n",
    "remote = requests.get(remote_url).json()"
   ]
  },
  {
   "cell_type": "code",
   "execution_count": 21,
   "metadata": {},
   "outputs": [
    {
     "name": "stdout",
     "output_type": "stream",
     "text": [
      "{'config': {'on': True, 'reachable': True},\n",
      " 'manufacturername': 'Philips',\n",
      " 'modelid': 'HA_GEOFENCE',\n",
      " 'name': 'Robins iPhone',\n",
      " 'recycle': False,\n",
      " 'state': {'lastupdated': '2020-02-05T20:46:58', 'presence': False},\n",
      " 'swversion': 'A_1',\n",
      " 'type': 'Geofence',\n",
      " 'uniqueid': 'L_02_IYwHM'}\n"
     ]
    }
   ],
   "source": [
    "print_json(remote)"
   ]
  },
  {
   "cell_type": "code",
   "execution_count": 7,
   "metadata": {},
   "outputs": [
    {
     "data": {
      "text/plain": [
       "{'lastupdated': '2017-10-06T19:20:28', 'presence': True}"
      ]
     },
     "execution_count": 7,
     "metadata": {},
     "output_type": "execute_result"
    }
   ],
   "source": [
    "remote['state']#['buttonevent']"
   ]
  },
  {
   "cell_type": "markdown",
   "metadata": {},
   "source": [
    "Format the time correctly"
   ]
  },
  {
   "cell_type": "code",
   "execution_count": 8,
   "metadata": {},
   "outputs": [
    {
     "data": {
      "text/plain": [
       "'2017-10-06T19:20:28'"
      ]
     },
     "execution_count": 8,
     "metadata": {},
     "output_type": "execute_result"
    }
   ],
   "source": [
    "lastupdated = remote['state']['lastupdated']\n",
    "lastupdated"
   ]
  },
  {
   "cell_type": "code",
   "execution_count": 9,
   "metadata": {},
   "outputs": [
    {
     "data": {
      "text/plain": [
       "['2017-10-06', '19:20:28']"
      ]
     },
     "execution_count": 9,
     "metadata": {},
     "output_type": "execute_result"
    }
   ],
   "source": [
    "lastupdated.split('T')"
   ]
  },
  {
   "cell_type": "markdown",
   "metadata": {},
   "source": [
    "Format the name correctly"
   ]
  },
  {
   "cell_type": "code",
   "execution_count": 10,
   "metadata": {},
   "outputs": [
    {
     "name": "stdout",
     "output_type": "stream",
     "text": [
      "Hall  Motion  Sensor\n"
     ]
    }
   ],
   "source": [
    "line='Hall Sensor'\n",
    "arr = line.split()\n",
    "arr.insert(1, ' Motion ')\n",
    "print(' '.join(arr))"
   ]
  },
  {
   "cell_type": "markdown",
   "metadata": {},
   "source": [
    "## Parse the 3 kinds of sensor\n",
    "Functions to parse 3 kinds of sensor, and a function to parse the API json data returned which calls the 3 functions.\n",
    "#### Parsing the SML001 Hue motion sensor"
   ]
  },
  {
   "cell_type": "code",
   "execution_count": 11,
   "metadata": {
    "collapsed": true,
    "jupyter": {
     "outputs_hidden": true
    }
   },
   "outputs": [],
   "source": [
    "def parse_sml(response):\n",
    "    \"\"\"Parse the json for a SML Hue motion sensor and return the data.\"\"\"\n",
    "    if 'ambient light' in response['name']:\n",
    "        lightlevel = response['state']['lightlevel']\n",
    "        lux = round(float(10**((lightlevel-1)/10000)), 2)\n",
    "        dark = response['state']['dark']\n",
    "        daylight = response['state']['daylight']\n",
    "        data = {'light_level': lightlevel,\n",
    "                'lux': lux,\n",
    "                'dark': dark,\n",
    "                'daylight': daylight, }\n",
    "\n",
    "    elif 'temperature' in response['name']:\n",
    "        data = {'temperature': response['state']['temperature']/100.0}\n",
    "\n",
    "    else:\n",
    "        name_raw = response['name']\n",
    "        arr = name_raw.split()\n",
    "        arr.insert(-1, 'motion')\n",
    "        name = ' '.join(arr)\n",
    "        hue_state = response['state']['presence']\n",
    "        if hue_state is True:\n",
    "            state = 'on'\n",
    "        else:\n",
    "            state = 'off'\n",
    "\n",
    "        data = {'model': 'Motion',\n",
    "                'state': state,\n",
    "                'battery': response['config']['battery'],\n",
    "                'name': name}\n",
    "    return data\n"
   ]
  },
  {
   "cell_type": "code",
   "execution_count": 12,
   "metadata": {},
   "outputs": [
    {
     "data": {
      "text/plain": [
       "{'battery': 100,\n",
       " 'model': 'Motion',\n",
       " 'name': 'Living room motion sensor',\n",
       " 'state': 'on'}"
      ]
     },
     "execution_count": 12,
     "metadata": {},
     "output_type": "execute_result"
    }
   ],
   "source": [
    "motion_sensor = requests.get(URL + '/{}'.format(15)).json()\n",
    "parse_sml(motion_sensor)"
   ]
  },
  {
   "cell_type": "code",
   "execution_count": 13,
   "metadata": {},
   "outputs": [
    {
     "data": {
      "text/plain": [
       "{'config': {'alert': 'none',\n",
       "  'battery': 100,\n",
       "  'ledindication': False,\n",
       "  'on': True,\n",
       "  'pending': [],\n",
       "  'reachable': True,\n",
       "  'sensitivity': 2,\n",
       "  'sensitivitymax': 2,\n",
       "  'usertest': False},\n",
       " 'manufacturername': 'Philips',\n",
       " 'modelid': 'SML001',\n",
       " 'name': 'Living room sensor',\n",
       " 'state': {'lastupdated': '2017-10-07T07:06:37', 'presence': True},\n",
       " 'swupdate': {'lastinstall': None, 'state': 'noupdates'},\n",
       " 'swversion': '6.1.0.18912',\n",
       " 'type': 'ZLLPresence',\n",
       " 'uniqueid': '00:17:88:01:02:01:aa:9c-02-0406'}"
      ]
     },
     "execution_count": 13,
     "metadata": {},
     "output_type": "execute_result"
    }
   ],
   "source": [
    "motion_sensor"
   ]
  },
  {
   "cell_type": "code",
   "execution_count": 14,
   "metadata": {},
   "outputs": [
    {
     "data": {
      "text/plain": [
       "{'temperature': 21.52}"
      ]
     },
     "execution_count": 14,
     "metadata": {},
     "output_type": "execute_result"
    }
   ],
   "source": [
    "motion_sensor = requests.get(URL + '/{}'.format(14)).json()\n",
    "parse_sml(motion_sensor)"
   ]
  },
  {
   "cell_type": "code",
   "execution_count": 15,
   "metadata": {},
   "outputs": [
    {
     "data": {
      "text/plain": [
       "{'dark': True, 'daylight': False, 'light_level': 6334, 'lux': 4.3}"
      ]
     },
     "execution_count": 15,
     "metadata": {},
     "output_type": "execute_result"
    }
   ],
   "source": [
    "motion_sensor = requests.get(URL + '/{}'.format(16)).json()\n",
    "parse_sml(motion_sensor)"
   ]
  },
  {
   "cell_type": "markdown",
   "metadata": {},
   "source": [
    "#### Parsing the RWL021 Hue remote"
   ]
  },
  {
   "cell_type": "code",
   "execution_count": 16,
   "metadata": {
    "collapsed": true,
    "jupyter": {
     "outputs_hidden": true
    }
   },
   "outputs": [],
   "source": [
    "def parse_rwl(response):\n",
    "    \"\"\"Parse the json response for a RWL Hue remote.\"\"\"\n",
    "    press = str(response['state']['buttonevent'])\n",
    "\n",
    "    if press[-1] in ['0', '2']:\n",
    "        button = str(press)[0] + '_click'\n",
    "    else:\n",
    "        button = str(press)[0] + '_hold'\n",
    "\n",
    "    data = {'model': 'Remote',\n",
    "            'name': response['name'],\n",
    "            'state': button,\n",
    "            'battery': response['config']['battery'],\n",
    "            'last_updated': response['state']['lastupdated'].split('T')}\n",
    "    return data"
   ]
  },
  {
   "cell_type": "markdown",
   "metadata": {},
   "source": [
    "Removed this code for now, it checks if it has been greater than 5 seconds since last press of remote and if so sets the status to idle. However there is currently an issue that the Hue time is out by 1 hour so this doesn't work. Check why Hue time is out and add later if required.\n",
    "\n",
    "    # Check how long since button pressed. If > seconds consider remote idle\n",
    "    lastupdated = response['state']['lastupdated'].split('T')  # returns a list\n",
    "    lastupdated_str = lastupdated[0] + ' ' + lastupdated[1]   # return a string\n",
    "    lastupdated_obj = datetime.strptime(lastupdated_str, '%Y-%m-%d %H:%M:%S')  # convert to datetime object\n",
    "    diff = datetime.now() - lastupdated_obj\n",
    "    sec_since_update = diff.seconds\n",
    "\n",
    "    # Why is API request returning wrong time zone? \n",
    "    #if diff.seconds > 5:\n",
    "    #    button = 'idle'"
   ]
  },
  {
   "cell_type": "code",
   "execution_count": 17,
   "metadata": {},
   "outputs": [
    {
     "data": {
      "text/plain": [
       "{'battery': 100,\n",
       " 'last_updated': ['2017-10-07', '06:30:28'],\n",
       " 'model': 'Remote',\n",
       " 'name': 'Living room remote',\n",
       " 'state': '2_click'}"
      ]
     },
     "execution_count": 17,
     "metadata": {},
     "output_type": "execute_result"
    }
   ],
   "source": [
    "remote = requests.get(URL + '/{}'.format(20)).json()\n",
    "parse_rwl(remote)"
   ]
  },
  {
   "cell_type": "markdown",
   "metadata": {},
   "source": [
    "#### Parse the GeoFence\n",
    "Hue presnce status"
   ]
  },
  {
   "cell_type": "code",
   "execution_count": 18,
   "metadata": {
    "collapsed": true,
    "jupyter": {
     "outputs_hidden": true
    }
   },
   "outputs": [],
   "source": [
    "def parse_geofence(response):\n",
    "    \"\"\"Parse the json response for a GEOFENCE and return the data.\"\"\"\n",
    "    hue_state = response['state']['presence']\n",
    "    if hue_state is True:\n",
    "        state = 'on'\n",
    "    else:\n",
    "        state = 'off'\n",
    "    data = {'name': response['name'],\n",
    "            'model': 'Geofence',\n",
    "            'state': state}\n",
    "    return data"
   ]
  },
  {
   "cell_type": "code",
   "execution_count": 19,
   "metadata": {},
   "outputs": [
    {
     "data": {
      "text/plain": [
       "{'model': 'Geofence', 'name': 'Robins iPhone', 'state': 'on'}"
      ]
     },
     "execution_count": 19,
     "metadata": {},
     "output_type": "execute_result"
    }
   ],
   "source": [
    "parse_geofence(requests.get(URL + '/{}'.format(12)).json())"
   ]
  },
  {
   "cell_type": "markdown",
   "metadata": {},
   "source": [
    "## Parsing the json file\n",
    "Function to parse the entire json returned by the API call. Loop over all sensors and if any of the 3 sensors of interest is found, return their data"
   ]
  },
  {
   "cell_type": "code",
   "execution_count": 67,
   "metadata": {
    "collapsed": true,
    "jupyter": {
     "outputs_hidden": true
    }
   },
   "outputs": [],
   "source": [
    "def parse_hue_api_response(response):\n",
    "    \"\"\"Take in the Hue API json response.\"\"\"\n",
    "    data_dict = {}    # The list of sensors, referenced by their hue_id.\n",
    "\n",
    "    # Loop over all keys (1,2 etc) to identify sensors and get data.\n",
    "    for key in response.keys():\n",
    "        sensor = response[key]\n",
    "\n",
    "        modelid = sensor['modelid'][0:3]\n",
    "        if modelid in ['RWL', 'SML', 'ZGP']:\n",
    "            _key = modelid + '_' + sensor['uniqueid'].split(':')[-1][0:5]\n",
    "\n",
    "            if sensor['modelid'][0:3] == 'RWL':\n",
    "                data_dict[_key] = parse_rwl(sensor)\n",
    "            elif sensor['modelid'] == 'ZGPSWITCH':\n",
    "                data_dict[_key] = parse_zpg(sensor)\n",
    "            elif sensor['modelid'][0:3] == 'SML':\n",
    "                if _key not in data_dict.keys():\n",
    "                    data_dict[_key] = parse_sml(sensor)\n",
    "                else:\n",
    "                    data_dict[_key].update(parse_sml(sensor))\n",
    "\n",
    "        elif sensor['modelid'] == 'HA_GEOFENCE':\n",
    "            data_dict['Geofence'] = parse_geofence(sensor)\n",
    "    return data_dict"
   ]
  },
  {
   "cell_type": "code",
   "execution_count": 68,
   "metadata": {},
   "outputs": [
    {
     "data": {
      "text/plain": [
       "{'Geofence': {'model': 'Geofence', 'name': 'Robins iPhone', 'state': 'on'},\n",
       " 'RWL_1e-02': {'battery': 100,\n",
       "  'last_updated': ['2017-10-07', '06:30:28'],\n",
       "  'model': 'Remote',\n",
       "  'name': 'Living room remote',\n",
       "  'state': '2_click'},\n",
       " 'RWL_9c-02': {'battery': 100,\n",
       "  'last_updated': ['2017-10-04', '06:04:54'],\n",
       "  'model': 'Remote',\n",
       "  'name': 'Hall remote',\n",
       "  'state': '1_hold'},\n",
       " 'RWL_dc-02': {'battery': 100,\n",
       "  'last_updated': ['2017-10-07', '07:08:37'],\n",
       "  'model': 'Remote',\n",
       "  'name': 'Remote bedroom',\n",
       "  'state': '4_click'},\n",
       " 'SML_28-02': {'battery': 100,\n",
       "  'dark': True,\n",
       "  'daylight': False,\n",
       "  'light_level': 6858,\n",
       "  'lux': 4.85,\n",
       "  'model': 'Motion',\n",
       "  'name': 'Hall motion Sensor',\n",
       "  'state': 'off',\n",
       "  'temperature': 18.0},\n",
       " 'SML_9c-02': {'battery': 100,\n",
       "  'dark': True,\n",
       "  'daylight': False,\n",
       "  'light_level': 7144,\n",
       "  'lux': 5.18,\n",
       "  'model': 'Motion',\n",
       "  'name': 'Living room motion sensor',\n",
       "  'state': 'off',\n",
       "  'temperature': 21.38},\n",
       " 'SML_ce-02': {'battery': 100,\n",
       "  'dark': True,\n",
       "  'daylight': False,\n",
       "  'light_level': 4895,\n",
       "  'lux': 3.09,\n",
       "  'model': 'Motion',\n",
       "  'name': 'Bedroom motion sensor',\n",
       "  'state': 'off',\n",
       "  'temperature': 19.88}}"
      ]
     },
     "execution_count": 68,
     "metadata": {},
     "output_type": "execute_result"
    }
   ],
   "source": [
    "my_parsed_data = parse_hue_api_response(requests.get(URL).json())\n",
    "my_parsed_data"
   ]
  },
  {
   "cell_type": "markdown",
   "metadata": {},
   "source": [
    "# HA specific development\n",
    "## Data class\n",
    "A class to hold the parsed data. In HA this is onject is throttled so it is only called once a second. Therfore only a single sensor object will update the data object but since the data object is shared by all sensors it will be up to date for all sensors. "
   ]
  },
  {
   "cell_type": "code",
   "execution_count": 22,
   "metadata": {
    "collapsed": true,
    "jupyter": {
     "outputs_hidden": true
    }
   },
   "outputs": [],
   "source": [
    "class HueSensorData(object):\n",
    "    \"\"\"Get the latest sensor data.\"\"\"\n",
    "\n",
    "    def __init__(self, url):\n",
    "        \"\"\"Initialize the object.\"\"\"\n",
    "        self.url = url\n",
    "        self.data = None\n",
    "\n",
    "    # Update only once in scan interval.\n",
    "   # @Throttle(SCAN_INTERVAL)         # included in HA\n",
    "    def update(self):\n",
    "        \"\"\"Get the latest data\"\"\"\n",
    "        response = requests.get(self.url)\n",
    "        if response.status_code != 200:\n",
    "            _LOGGER.warning(\"Invalid response from API\")\n",
    "        else:\n",
    "            self.data = parse_hue_api_response(response.json())"
   ]
  },
  {
   "cell_type": "code",
   "execution_count": 23,
   "metadata": {
    "collapsed": true,
    "jupyter": {
     "outputs_hidden": true
    }
   },
   "outputs": [],
   "source": [
    "my_data = HueSensorData(URL)    # I have the URL saved in a file, but the HA component loads it from phue.conf\n",
    "my_data.update()"
   ]
  },
  {
   "cell_type": "code",
   "execution_count": 24,
   "metadata": {},
   "outputs": [
    {
     "data": {
      "text/plain": [
       "dict_keys(['dc-02', '28-02', 'ce-02', 'Geofence', '9c-02', '1e-02'])"
      ]
     },
     "execution_count": 24,
     "metadata": {},
     "output_type": "execute_result"
    }
   ],
   "source": [
    "my_data.data.keys()   # sensors are indexed by their Hue ID"
   ]
  },
  {
   "cell_type": "markdown",
   "metadata": {},
   "source": [
    "## Sensor class\n",
    "\n",
    "Create a generic HueSensor class."
   ]
  },
  {
   "cell_type": "code",
   "execution_count": 44,
   "metadata": {
    "collapsed": true,
    "jupyter": {
     "outputs_hidden": true
    }
   },
   "outputs": [],
   "source": [
    "class HueSensor():  # Entity\n",
    "    \"\"\"Class to hold Hue Sensor basic info.\"\"\"\n",
    "\n",
    "    ICON = 'mdi:run-fast'\n",
    "\n",
    "    def __init__(self, hue_id, data):\n",
    "        self._hue_id = hue_id\n",
    "        self._data = data    # data is in .data\n",
    "        self._name = self._data.data[self._hue_id]['name']\n",
    "        self._model = self._data.data[self._hue_id]['model']\n",
    "        self._state = self._data.data[self._hue_id]['state']\n",
    "        self._attributes = {}\n",
    "\n",
    "    @property\n",
    "    def name(self):\n",
    "        \"\"\"Return the name of the sensor.\"\"\"\n",
    "        return self._name\n",
    "\n",
    "    @property\n",
    "    def state(self):\n",
    "        \"\"\"Return the state of the sensor.\"\"\"\n",
    "        return self._state\n",
    "\n",
    "    @property\n",
    "    def icon(self):\n",
    "        \"\"\"Icon to use in the frontend, if any.\"\"\"\n",
    "        return self.ICON\n",
    "\n",
    "    @property\n",
    "    def device_state_attributes(self):\n",
    "        \"\"\"Only motion sensors have attributes currently, but could extend.\"\"\"\n",
    "        return self._attributes\n",
    "\n",
    "    def update(self):\n",
    "        \"\"\"Update the sensor.\"\"\"\n",
    "        self._data.update()\n",
    "        self._state = self._data.data[self._hue_id]['state']\n",
    "        if self._model == 'SML':\n",
    "            self._attributes['light_level'] = self._data.data[\n",
    "                self._hue_id]['light_level']\n",
    "            self._attributes['temperature'] = self._data.data[\n",
    "                self._hue_id]['temperature']\n",
    "        elif self._model == 'RWL':\n",
    "            self._attributes['last updated'] = self._data.data[\n",
    "                self._hue_id]['last_updated']"
   ]
  },
  {
   "cell_type": "markdown",
   "metadata": {},
   "source": [
    "### Test the motion sensor"
   ]
  },
  {
   "cell_type": "code",
   "execution_count": 59,
   "metadata": {},
   "outputs": [
    {
     "data": {
      "text/plain": [
       "{'battery': 100,\n",
       " 'last_updated': ['2017-10-04', '06:04:54'],\n",
       " 'model': 'Remote',\n",
       " 'name': 'Hall remote',\n",
       " 'state': '1_hold'}"
      ]
     },
     "execution_count": 59,
     "metadata": {},
     "output_type": "execute_result"
    }
   ],
   "source": [
    "my_data.data['9c-02']"
   ]
  },
  {
   "cell_type": "code",
   "execution_count": 46,
   "metadata": {},
   "outputs": [
    {
     "data": {
      "text/plain": [
       "'ce-02'"
      ]
     },
     "execution_count": 46,
     "metadata": {},
     "output_type": "execute_result"
    }
   ],
   "source": [
    "test_hue_motion = HueSensor('ce-02', my_data)\n",
    "test_hue_motion.update()\n",
    "test_hue_motion._hue_id"
   ]
  },
  {
   "cell_type": "code",
   "execution_count": 47,
   "metadata": {},
   "outputs": [
    {
     "data": {
      "text/plain": [
       "'Bedroom motion sensor'"
      ]
     },
     "execution_count": 47,
     "metadata": {},
     "output_type": "execute_result"
    }
   ],
   "source": [
    "test_hue_motion.name"
   ]
  },
  {
   "cell_type": "code",
   "execution_count": 48,
   "metadata": {},
   "outputs": [
    {
     "data": {
      "text/plain": [
       "'off'"
      ]
     },
     "execution_count": 48,
     "metadata": {},
     "output_type": "execute_result"
    }
   ],
   "source": [
    "test_hue_motion.state"
   ]
  },
  {
   "cell_type": "code",
   "execution_count": 49,
   "metadata": {},
   "outputs": [
    {
     "data": {
      "text/plain": [
       "{}"
      ]
     },
     "execution_count": 49,
     "metadata": {},
     "output_type": "execute_result"
    }
   ],
   "source": [
    "test_hue_motion.device_state_attributes"
   ]
  },
  {
   "cell_type": "markdown",
   "metadata": {},
   "source": [
    "### Test the remote"
   ]
  },
  {
   "cell_type": "code",
   "execution_count": 50,
   "metadata": {},
   "outputs": [
    {
     "data": {
      "text/plain": [
       "{'battery': 100,\n",
       " 'last_updated': ['2017-10-07', '06:30:28'],\n",
       " 'model': 'Remote',\n",
       " 'name': 'Living room remote',\n",
       " 'state': '2_click'}"
      ]
     },
     "execution_count": 50,
     "metadata": {},
     "output_type": "execute_result"
    }
   ],
   "source": [
    "my_data.data['1e-02']"
   ]
  },
  {
   "cell_type": "code",
   "execution_count": 51,
   "metadata": {},
   "outputs": [
    {
     "data": {
      "text/plain": [
       "'1e-02'"
      ]
     },
     "execution_count": 51,
     "metadata": {},
     "output_type": "execute_result"
    }
   ],
   "source": [
    "test_hue_remote = HueSensor('1e-02', my_data)\n",
    "test_hue_remote.update()\n",
    "test_hue_remote._hue_id"
   ]
  },
  {
   "cell_type": "code",
   "execution_count": 52,
   "metadata": {},
   "outputs": [
    {
     "data": {
      "text/plain": [
       "'Living room remote'"
      ]
     },
     "execution_count": 52,
     "metadata": {},
     "output_type": "execute_result"
    }
   ],
   "source": [
    "test_hue_remote.name"
   ]
  },
  {
   "cell_type": "code",
   "execution_count": 53,
   "metadata": {},
   "outputs": [
    {
     "data": {
      "text/plain": [
       "'2_click'"
      ]
     },
     "execution_count": 53,
     "metadata": {},
     "output_type": "execute_result"
    }
   ],
   "source": [
    "test_hue_remote.state"
   ]
  },
  {
   "cell_type": "code",
   "execution_count": 54,
   "metadata": {},
   "outputs": [
    {
     "data": {
      "text/plain": [
       "{}"
      ]
     },
     "execution_count": 54,
     "metadata": {},
     "output_type": "execute_result"
    }
   ],
   "source": [
    "test_hue_remote.device_state_attributes"
   ]
  },
  {
   "cell_type": "markdown",
   "metadata": {},
   "source": [
    "### Test the Geofence"
   ]
  },
  {
   "cell_type": "code",
   "execution_count": 55,
   "metadata": {},
   "outputs": [
    {
     "data": {
      "text/plain": [
       "{'model': 'Geofence', 'name': 'Robins iPhone', 'state': 'on'}"
      ]
     },
     "execution_count": 55,
     "metadata": {},
     "output_type": "execute_result"
    }
   ],
   "source": [
    "my_data.data['Geofence']"
   ]
  },
  {
   "cell_type": "code",
   "execution_count": 56,
   "metadata": {},
   "outputs": [
    {
     "data": {
      "text/plain": [
       "'Geofence'"
      ]
     },
     "execution_count": 56,
     "metadata": {},
     "output_type": "execute_result"
    }
   ],
   "source": [
    "test_geofence = HueSensor('Geofence', my_data)\n",
    "test_geofence.update()\n",
    "test_geofence._hue_id"
   ]
  },
  {
   "cell_type": "code",
   "execution_count": 57,
   "metadata": {},
   "outputs": [
    {
     "data": {
      "text/plain": [
       "'Robins iPhone'"
      ]
     },
     "execution_count": 57,
     "metadata": {},
     "output_type": "execute_result"
    }
   ],
   "source": [
    "test_geofence.name"
   ]
  },
  {
   "cell_type": "code",
   "execution_count": 58,
   "metadata": {},
   "outputs": [
    {
     "data": {
      "text/plain": [
       "'on'"
      ]
     },
     "execution_count": 58,
     "metadata": {},
     "output_type": "execute_result"
    }
   ],
   "source": [
    "test_geofence.state"
   ]
  },
  {
   "cell_type": "markdown",
   "metadata": {},
   "source": [
    "## Test setup platform\n",
    "Mimic setup in HA"
   ]
  },
  {
   "cell_type": "code",
   "execution_count": 40,
   "metadata": {
    "collapsed": true,
    "jupyter": {
     "outputs_hidden": true
    }
   },
   "outputs": [],
   "source": [
    "def setup_platform():\n",
    "    \"\"\"Set up the component.\"\"\"\n",
    "    data = HueSensorData(URL)\n",
    "    data.update()\n",
    "    sensors = []\n",
    "    for key in data.data.keys():\n",
    "        sensors.append(HueSensor(key, data))\n",
    "    return(sensors)\n",
    "    #add_devices(sensors, True)"
   ]
  },
  {
   "cell_type": "code",
   "execution_count": 41,
   "metadata": {
    "collapsed": true,
    "jupyter": {
     "outputs_hidden": true
    }
   },
   "outputs": [],
   "source": [
    "my_sensors = setup_platform()"
   ]
  },
  {
   "cell_type": "code",
   "execution_count": 42,
   "metadata": {},
   "outputs": [
    {
     "name": "stdout",
     "output_type": "stream",
     "text": [
      "Remote bedroom\n",
      "4_click\n",
      "{}\n",
      "*****\n",
      "Hall motion Sensor\n",
      "off\n",
      "{}\n",
      "*****\n",
      "Bedroom motion sensor\n",
      "off\n",
      "{}\n",
      "*****\n",
      "Robins iPhone\n",
      "on\n",
      "{}\n",
      "*****\n",
      "Hall remote\n",
      "1_hold\n",
      "{}\n",
      "*****\n",
      "Living room remote\n",
      "2_click\n",
      "{}\n",
      "*****\n"
     ]
    }
   ],
   "source": [
    "for sensor in my_sensors:\n",
    "    sensor.update()\n",
    "    print(sensor.name)\n",
    "    print(sensor.state)\n",
    "    print(sensor.device_state_attributes)\n",
    "    print('*****')"
   ]
  },
  {
   "cell_type": "markdown",
   "metadata": {},
   "source": [
    "## Testing\n",
    "Use mocker to return a file rather than fresh API data, allows us to create tests with standardised results."
   ]
  },
  {
   "cell_type": "code",
   "execution_count": 43,
   "metadata": {},
   "outputs": [
    {
     "ename": "ModuleNotFoundError",
     "evalue": "No module named 'requests_mock'",
     "output_type": "error",
     "traceback": [
      "\u001b[0;31m---------------------------------------------------------------------------\u001b[0m",
      "\u001b[0;31mModuleNotFoundError\u001b[0m                       Traceback (most recent call last)",
      "\u001b[0;32m<ipython-input-43-cf68e983055c>\u001b[0m in \u001b[0;36m<module>\u001b[0;34m()\u001b[0m\n\u001b[0;32m----> 1\u001b[0;31m \u001b[0;32mimport\u001b[0m \u001b[0mrequests_mock\u001b[0m\u001b[0;34m\u001b[0m\u001b[0m\n\u001b[0m\u001b[1;32m      2\u001b[0m \u001b[0;32mimport\u001b[0m \u001b[0munittest\u001b[0m\u001b[0;34m\u001b[0m\u001b[0m\n",
      "\u001b[0;31mModuleNotFoundError\u001b[0m: No module named 'requests_mock'"
     ]
    }
   ],
   "source": [
    "import requests_mock\n",
    "import unittest"
   ]
  },
  {
   "cell_type": "code",
   "execution_count": null,
   "metadata": {},
   "outputs": [],
   "source": [
    "class TestHueSensor(unittest.TestCase):\n",
    "    \n",
    "    def test_hue_sensors(self):\n",
    "\n",
    "        with requests_mock.mock() as m:\n",
    "            \"\"\"Test for operational uk_transport sensor with proper attributes.\"\"\"\n",
    "            mock_url  = 'http://mock'\n",
    "            m.get(mock_url, text=open('tests//hue_sensors.json').read())           \n",
    "            data = HueSensorData(mock_url)\n",
    "            data.update()\n",
    "            sensors = []\n",
    "            for key in data.data.keys():\n",
    "                sensor = HueSensor(key, data)\n",
    "                sensor.update()\n",
    "                sensors.append(sensor)\n",
    "              \n",
    "            assert len(sensors) == 6\n",
    "            for sensor in sensors:\n",
    "                if sensor.name == 'Living room motion sensor':\n",
    "                    assert sensor.state is 'off'\n",
    "                    assert sensor.device_state_attributes['light_level'] == 0\n",
    "                    assert sensor.device_state_attributes['temperature'] == 21.38\n",
    "                elif sensor.name == 'Living room remote':\n",
    "                    #print(sensor.device_state_attributes['last updated'])\n",
    "                    assert sensor.state == '1_hold'\n",
    "                    assert sensor.device_state_attributes['last updated'] == ['2017-09-15', '16:35:00']\n",
    "                elif sensor.name == 'Robins iPhone':\n",
    "                    assert sensor.state is 'on'\n",
    "                else:\n",
    "                    assert sensor.name in ['Bedroom motion sensor', 'Remote bedroom', 'Hall motion Sensor'] \n",
    "\n",
    "\n",
    "unittest.main(argv=['ignored', '-v'], exit=False)"
   ]
  },
  {
   "cell_type": "code",
   "execution_count": null,
   "metadata": {
    "collapsed": true,
    "jupyter": {
     "outputs_hidden": true
    }
   },
   "outputs": [],
   "source": []
  },
  {
   "cell_type": "code",
   "execution_count": null,
   "metadata": {
    "collapsed": true,
    "jupyter": {
     "outputs_hidden": true
    }
   },
   "outputs": [],
   "source": []
  },
  {
   "cell_type": "code",
   "execution_count": null,
   "metadata": {
    "collapsed": true,
    "jupyter": {
     "outputs_hidden": true
    }
   },
   "outputs": [],
   "source": [
    "a = {'key1':{'key2':'foo'}}"
   ]
  },
  {
   "cell_type": "code",
   "execution_count": null,
   "metadata": {
    "collapsed": true,
    "jupyter": {
     "outputs_hidden": true
    }
   },
   "outputs": [],
   "source": [
    "iter_obj = a.keys().__iter__()"
   ]
  },
  {
   "cell_type": "code",
   "execution_count": null,
   "metadata": {},
   "outputs": [],
   "source": [
    "next(iter_obj)"
   ]
  },
  {
   "cell_type": "code",
   "execution_count": null,
   "metadata": {},
   "outputs": [],
   "source": [
    "next(iter_obj)"
   ]
  },
  {
   "cell_type": "code",
   "execution_count": null,
   "metadata": {
    "collapsed": true,
    "jupyter": {
     "outputs_hidden": true
    }
   },
   "outputs": [],
   "source": [
    "next(json.loads(''.join(inp)).keys().__iter__())"
   ]
  }
 ],
 "metadata": {
  "anaconda-cloud": {},
  "kernelspec": {
   "display_name": "Python 3",
   "language": "python",
   "name": "python3"
  },
  "language_info": {
   "codemirror_mode": {
    "name": "ipython",
    "version": 3
   },
   "file_extension": ".py",
   "mimetype": "text/x-python",
   "name": "python",
   "nbconvert_exporter": "python",
   "pygments_lexer": "ipython3",
   "version": "3.7.3"
  }
 },
 "nbformat": 4,
 "nbformat_minor": 4
}
